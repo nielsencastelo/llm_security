{
 "cells": [
  {
   "cell_type": "code",
   "execution_count": null,
   "id": "52a7a92e",
   "metadata": {},
   "outputs": [],
   "source": [
    "# Instale as dependências necessárias:\n",
    "# !pip install pymupdf langchain langchain_community\n",
    "\n",
    "import os\n",
    "import fitz  # PyMuPDF\n",
    "from langchain.prompts import ChatPromptTemplate\n",
    "from langchain_community.chat_models import ChatOllama\n",
    "from langchain_core.output_parsers import StrOutputParser\n",
    "\n",
    "PROMPT_FILE = r\"EE:\\Projetos\\llm_security\\src\\Prompt - secur.txt\"\n",
    "MODEL_NAME = \"phi4\" "
   ]
  },
  {
   "cell_type": "code",
   "execution_count": null,
   "id": "9266be47",
   "metadata": {},
   "outputs": [],
   "source": [
    "# import re\n",
    "\n",
    "# input_path = r\"E:\\Projetos\\JusSimples\\pdfs\\Prompt - Geracao de Cobrança.txt\"\n",
    "# output_path = r\"E:\\Projetos\\JusSimples\\pdfs\\Prompt - Geracao de Cobrança - Escapado.txt\"\n",
    "\n",
    "# def escape_braces_in_json_blocks(text):\n",
    "#     # Encontra todos os blocos ```json ... ```\n",
    "#     def replacer(match):\n",
    "#         json_block = match.group(1)\n",
    "#         json_escaped = json_block.replace('{', '{{').replace('}', '}}')\n",
    "#         return f\"```json\\n{json_escaped}\\n```\"\n",
    "#     # Substitui apenas dentro de blocos ```json ... ```\n",
    "#     pattern = re.compile(r\"```json\\n(.*?)\\n```\", re.DOTALL)\n",
    "#     return pattern.sub(replacer, text)\n",
    "\n",
    "# with open(input_path, encoding='utf-8') as f:\n",
    "#     original_text = f.read()\n",
    "\n",
    "# escaped_text = escape_braces_in_json_blocks(original_text)\n",
    "\n",
    "# with open(output_path, \"w\", encoding='utf-8') as f:\n",
    "#     f.write(escaped_text)\n",
    "\n",
    "# print(f\"Prompt corrigido e salvo em: {output_path}\")\n"
   ]
  },
  {
   "cell_type": "code",
   "execution_count": null,
   "id": "8647ad4d",
   "metadata": {},
   "outputs": [],
   "source": [
    "\n",
    "# Lê o prompt do arquivo\n",
    "with open(PROMPT_FILE, encoding='utf-8') as f:\n",
    "    system_prompt = f.read()\n",
    "\n",
    "def model_ollama(model, temperature=0.1):\n",
    "    return ChatOllama(model=model.lower().replace(\" \", \"\"), temperature=temperature)\n",
    "\n",
    "def model_response(user_query, model_name):\n",
    "    try:\n",
    "        llm = model_ollama(model_name)\n",
    "        prompt_template = ChatPromptTemplate.from_messages([\n",
    "            (\"system\", system_prompt),\n",
    "            (\"user\", \"{input}\")\n",
    "        ])\n",
    "        chain = prompt_template | llm | StrOutputParser()\n",
    "        return chain.invoke({\n",
    "            \"input\": user_query\n",
    "        })\n",
    "    except Exception as e:\n",
    "        print(\"Erro:\", e)\n",
    "        return \"❌ Ocorreu um erro ao processar sua solicitação.\"\n",
    "\n",
    "def extract_text(pdf_path):\n",
    "    doc = fitz.open(pdf_path)\n",
    "    return \"\\n\".join([page.get_text() for page in doc])\n",
    "\n",
    "\n"
   ]
  },
  {
   "cell_type": "code",
   "execution_count": 4,
   "id": "b2250942",
   "metadata": {},
   "outputs": [
    {
     "name": "stderr",
     "output_type": "stream",
     "text": [
      "C:\\Users\\nielsen.castelo\\AppData\\Local\\Temp\\ipykernel_20100\\1296286098.py:6: LangChainDeprecationWarning: The class `ChatOllama` was deprecated in LangChain 0.3.1 and will be removed in 1.0.0. An updated version of the class exists in the :class:`~langchain-ollama package and should be used instead. To use it run `pip install -U :class:`~langchain-ollama` and import as `from :class:`~langchain_ollama import ChatOllama``.\n",
      "  return ChatOllama(model=model.lower().replace(\" \", \"\"), temperature=temperature)\n"
     ]
    }
   ],
   "source": [
    "texto = \"\"\" 0,tcp,private,REJ,0,0,...,neptune,21\n",
    "\"\"\"\n",
    "resposta_json = model_response(texto, MODEL_NAME)"
   ]
  },
  {
   "cell_type": "code",
   "execution_count": 5,
   "id": "6411d921",
   "metadata": {},
   "outputs": [
    {
     "data": {
      "text/plain": [
       "'```json\\n{\\n    \"ataque_detectado\": \"Neptune\",\\n    \"explicacao\": \"O ataque Neptune é uma variação do ataque Nmap que envolve o uso de pacotes TCP SYN para sondar portas em um host alvo. O objetivo principal é descobrir quais serviços estão rodando e se as portas estão abertas, fechadas ou filtradas. A classificação \\'REJ\\' (Reject) indica que a porta está sendo bloqueada por um firewall ou filtro de pacotes.\",\\n    \"riscos\": \"O ataque Neptune pode ser usado como uma etapa preliminar em atividades maliciosas mais complexas, como exploração de vulnerabilidades e comprometimento do sistema. Ao identificar portas abertas, os atacantes podem direcionar seus esforços para explorar serviços específicos que possam estar vulneráveis a exploits conhecidos.\",\\n    \"contramedidas\": [\\n        \"Implementar firewalls robustos que bloqueiem tráfego não autorizado e filtrem pacotes de sondagem indesejados.\",\\n        \"Utilizar sistemas de detecção e prevenção de intrusões (IDS/IPS) para monitorar e bloquear atividades suspeitas, como múltiplas tentativas de conexão em um curto período de tempo.\",\\n        \"Manter serviços e sistemas atualizados com patches de segurança mais recentes para mitigar vulnerabilidades conhecidas que possam ser exploradas após a descoberta de portas abertas.\",\\n        \"Adotar práticas de minimização da superfície de ataque, como desativar ou bloquear serviços desnecessários e fechar portas não utilizadas.\"\\n    ]\\n}\\n```\\n\\n### Explicação Adicional:\\n\\n- **Neptune**: Este é um tipo de ataque de reconhecimento que faz parte do conjunto de técnicas usadas por ferramentas de enumeração de rede, como o Nmap. Ele envia pacotes SYN para múltiplas portas e observa as respostas para determinar o estado das portas.\\n\\n- **Impacto**: Embora em si não cause danos diretos, o Neptune pode facilitar ataques subsequentes ao fornecer informações valiosas sobre a configuração da rede alvo. Isso pode levar à exploração de vulnerabilidades específicas ou à execução de outros tipos de ataques mais agressivos.\\n\\n- **Mitigação**: A chave para mitigar o impacto do Neptune é reduzir a quantidade de informações que um atacante pode obter sobre sua rede. Isso inclui tanto medidas técnicas, como firewalls e IDS/IPS, quanto práticas administrativas, como revisões regulares das configurações de segurança e atualizações de software.\\n\\n- **Boas Práticas**: Além das contramedidas específicas mencionadas, é importante adotar uma abordagem proativa para a segurança da rede, incluindo treinamento contínuo do pessoal sobre ameaças emergentes e revisões periódicas de políticas de segurança.'"
      ]
     },
     "execution_count": 5,
     "metadata": {},
     "output_type": "execute_result"
    }
   ],
   "source": [
    "resposta_json"
   ]
  }
 ],
 "metadata": {
  "kernelspec": {
   "display_name": "LLM",
   "language": "python",
   "name": "python3"
  },
  "language_info": {
   "codemirror_mode": {
    "name": "ipython",
    "version": 3
   },
   "file_extension": ".py",
   "mimetype": "text/x-python",
   "name": "python",
   "nbconvert_exporter": "python",
   "pygments_lexer": "ipython3",
   "version": "3.12.9"
  }
 },
 "nbformat": 4,
 "nbformat_minor": 5
}
